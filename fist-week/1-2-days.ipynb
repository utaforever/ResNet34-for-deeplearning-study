{
 "cells": [
  {
   "cell_type": "code",
   "id": "initial_id",
   "metadata": {
    "collapsed": true,
    "ExecuteTime": {
     "end_time": "2025-07-17T01:24:10.349320Z",
     "start_time": "2025-07-17T01:24:05.124725Z"
    }
   },
   "source": [
    "import torch\n",
    "import numpy as np"
   ],
   "outputs": [],
   "execution_count": 1
  },
  {
   "metadata": {
    "ExecuteTime": {
     "end_time": "2025-07-17T01:24:10.412801Z",
     "start_time": "2025-07-17T01:24:10.350432Z"
    }
   },
   "cell_type": "code",
   "source": [
    "#  任务1：创建一个指定形状的随机张量和全零张量\n",
    "#   注意：一维的张量是中性的，没有行向量和列向量之分，既不是行向量也不是列向量。就是一个一维的张量\n",
    "x = torch.rand(3, 4)    # 创建一个[0:1)的均匀分布的3乘4大小的随机张量\n",
    "y = torch.ones(3, 4)    # 创建一个全为1的3乘4大小的张量\n",
    "range = torch.arange(0, 5)\n",
    "z = torch.zeros(3, 4)   # 创建一个全为0的3乘4大小的张量\n",
    "m = torch.randn(3, 4)   # 创建一个3乘4大小的正态分布的张量\n",
    "n = torch.arange(0, 12).reshape(3, 4)  #创建一个从0到11顺序排列的向量组并将其转成3乘4形状的矩阵\n",
    "p = torch.tensor([1, 2, 3])\n",
    "x, y, z, m, n, range, range.shape, p, p.shape"
   ],
   "id": "8372053c5156ac48",
   "outputs": [
    {
     "data": {
      "text/plain": [
       "(tensor([[0.6954, 0.1318, 0.0294, 0.4051],\n",
       "         [0.2180, 0.1494, 0.8483, 0.7179],\n",
       "         [0.3097, 0.4650, 0.6082, 0.2002]]),\n",
       " tensor([[1., 1., 1., 1.],\n",
       "         [1., 1., 1., 1.],\n",
       "         [1., 1., 1., 1.]]),\n",
       " tensor([[0., 0., 0., 0.],\n",
       "         [0., 0., 0., 0.],\n",
       "         [0., 0., 0., 0.]]),\n",
       " tensor([[ 0.5260, -0.9683, -1.5842,  1.0144],\n",
       "         [-1.8951,  1.1087, -0.0298,  0.6353],\n",
       "         [-1.4308,  2.2208, -0.2911, -1.0541]]),\n",
       " tensor([[ 0,  1,  2,  3],\n",
       "         [ 4,  5,  6,  7],\n",
       "         [ 8,  9, 10, 11]]),\n",
       " tensor([0, 1, 2, 3, 4]),\n",
       " torch.Size([5]),\n",
       " tensor([1, 2, 3]),\n",
       " torch.Size([3]))"
      ]
     },
     "execution_count": 2,
     "metadata": {},
     "output_type": "execute_result"
    }
   ],
   "execution_count": 2
  },
  {
   "metadata": {
    "ExecuteTime": {
     "end_time": "2025-07-17T01:24:10.428235Z",
     "start_time": "2025-07-17T01:24:10.414019Z"
    }
   },
   "cell_type": "code",
   "source": [
    "a = torch.arange(12)\n",
    "a, a.shape"
   ],
   "id": "e79732c3c505c51c",
   "outputs": [
    {
     "data": {
      "text/plain": [
       "(tensor([ 0,  1,  2,  3,  4,  5,  6,  7,  8,  9, 10, 11]), torch.Size([12]))"
      ]
     },
     "execution_count": 3,
     "metadata": {},
     "output_type": "execute_result"
    }
   ],
   "execution_count": 3
  },
  {
   "metadata": {
    "ExecuteTime": {
     "end_time": "2025-07-17T01:24:10.443899Z",
     "start_time": "2025-07-17T01:24:10.429841Z"
    }
   },
   "cell_type": "code",
   "source": [
    "#  任务2：练习张量的基本数学运算（加、减、乘、矩阵乘法 @）\n",
    "'''有两种矩阵乘法，真正矩阵乘法和元素级乘法\n",
    "（1） a @ b   第一个矩阵的行与第二个矩阵的列进行点积运算，与torch.matmul(a, b)一模一样\n",
    "（2） torch.mm()  只支持两个二维矩阵的乘法，不支持批处理和广播\n",
    "（3） a * b   将两个形状相同的矩阵中对应位置的元素进行相乘与torch.mul(a, b)一模一样\n",
    "'''\n",
    "'''\n",
    "广播机制：\n",
    "（1）维度兼容：从后往前比较它们的维度大小，在每个维度上，必须满足以下三个条件之一：\n",
    "首先执行：如果两个张量的维度数量不同，那么在维度较少的那个张量的左侧补1，直到它们的维度数量相等。如(4,)会被补成(1,4)\n",
    "\n",
    "a、它们的维度大小相等。指的是（3，4）和（3，4）这样维度大小才是相等的\n",
    "\n",
    "b、其中一个张量的维度大小为 1。\n",
    "\n",
    "c、其中一个张量不存在该维度。\n",
    "注：矩阵乘法有点特殊，@运算时，只会对批次维度进行标准广播，对这个矩阵形状这最后两个维度不会进行广播，必须满足标准的矩阵乘法的要求\n",
    "\n",
    "（2）自动扩展：如果满足兼容条件，运算结果的形状将取两个张量在该维度上的最大值。维度大小为 1 或者不存在的维度，会被自动扩展以匹配另一个张量的维度大小。\n",
    "'''\n",
    "tensor_rand = torch.rand(3, 4)\n",
    "tensor_ones = torch.ones(3, 4)\n",
    "board_tensor = torch.ones(4,)\n",
    "mul_tensor = torch.arange(0, 4).reshape(1, 4)\n",
    "mul_tensor1 = torch.arange(0, 4).reshape(4, 1)\n",
    "tensor_arange = torch.arange(0,12).reshape(3,4)\n",
    "tensor_rand + tensor_ones, tensor_ones - tensor_rand, tensor_ones + board_tensor   # 矩阵加法与减法，逐个矩阵元素互相加减"
   ],
   "id": "91bf978c454af2f6",
   "outputs": [
    {
     "data": {
      "text/plain": [
       "(tensor([[1.7517, 1.1540, 1.4614, 1.8343],\n",
       "         [1.2264, 1.7247, 1.2970, 1.6116],\n",
       "         [1.6321, 1.1393, 1.2886, 1.7816]]),\n",
       " tensor([[0.2483, 0.8460, 0.5386, 0.1657],\n",
       "         [0.7736, 0.2753, 0.7030, 0.3884],\n",
       "         [0.3679, 0.8607, 0.7114, 0.2184]]),\n",
       " tensor([[2., 2., 2., 2.],\n",
       "         [2., 2., 2., 2.],\n",
       "         [2., 2., 2., 2.]]))"
      ]
     },
     "execution_count": 4,
     "metadata": {},
     "output_type": "execute_result"
    }
   ],
   "execution_count": 4
  },
  {
   "metadata": {
    "ExecuteTime": {
     "end_time": "2025-07-17T01:24:10.459809Z",
     "start_time": "2025-07-17T01:24:10.445901Z"
    }
   },
   "cell_type": "code",
   "source": [
    "tensor_rand @ board_tensor,  tensor_ones @ mul_tensor1.float()   #这里做了一个处理将board_tensor从（4，）变成了（4，1）形状，是一个特例，而且结果也变成了一维torch.Size([3])，而不是torch.Size([3, 1])\n",
    "#tensor_ones为整型数据，mul_tensor1为浮点型数据，PyTorch的矩阵乘法 (@) 操作要求两个张量的数据类型一致"
   ],
   "id": "744de3903512e438",
   "outputs": [
    {
     "data": {
      "text/plain": [
       "(tensor([2.2013, 1.8598, 1.8415]),\n",
       " tensor([[6.],\n",
       "         [6.],\n",
       "         [6.]]))"
      ]
     },
     "execution_count": 5,
     "metadata": {},
     "output_type": "execute_result"
    }
   ],
   "execution_count": 5
  },
  {
   "metadata": {
    "ExecuteTime": {
     "end_time": "2025-07-17T01:24:10.475473Z",
     "start_time": "2025-07-17T01:24:10.460961Z"
    }
   },
   "cell_type": "code",
   "source": "tensor_rand @ board_tensor == tensor_rand @ (board_tensor.reshape(4, 1))    #这里也进行了广播，左边结果形状为torch.Size([3])，右边结果形状为torch.Size([3, 1])，左边先被补充成（1，3），然后两个分别进行广播",
   "id": "d73867a5fbba7a53",
   "outputs": [
    {
     "data": {
      "text/plain": [
       "tensor([[ True, False, False],\n",
       "        [False,  True, False],\n",
       "        [False, False,  True]])"
      ]
     },
     "execution_count": 6,
     "metadata": {},
     "output_type": "execute_result"
    }
   ],
   "execution_count": 6
  },
  {
   "metadata": {
    "ExecuteTime": {
     "end_time": "2025-07-17T01:24:10.491058Z",
     "start_time": "2025-07-17T01:24:10.476870Z"
    }
   },
   "cell_type": "code",
   "source": "(tensor_rand @ board_tensor).shape, (tensor_ones @ mul_tensor1.float()).shape, (tensor_rand @ (board_tensor.reshape(4, 1))).shape",
   "id": "79bfe950a15c6aa5",
   "outputs": [
    {
     "data": {
      "text/plain": [
       "(torch.Size([3]), torch.Size([3, 1]), torch.Size([3, 1]))"
      ]
     },
     "execution_count": 7,
     "metadata": {},
     "output_type": "execute_result"
    }
   ],
   "execution_count": 7
  },
  {
   "metadata": {
    "ExecuteTime": {
     "end_time": "2025-07-17T01:24:10.506930Z",
     "start_time": "2025-07-17T01:24:10.492562Z"
    }
   },
   "cell_type": "code",
   "source": "tensor_rand * tensor_ones, tensor_rand * board_tensor, tensor_rand * mul_tensor",
   "id": "5ce317fd1be10909",
   "outputs": [
    {
     "data": {
      "text/plain": [
       "(tensor([[0.7517, 0.1540, 0.4614, 0.8343],\n",
       "         [0.2264, 0.7247, 0.2970, 0.6116],\n",
       "         [0.6321, 0.1393, 0.2886, 0.7816]]),\n",
       " tensor([[0.7517, 0.1540, 0.4614, 0.8343],\n",
       "         [0.2264, 0.7247, 0.2970, 0.6116],\n",
       "         [0.6321, 0.1393, 0.2886, 0.7816]]),\n",
       " tensor([[0.0000, 0.1540, 0.9228, 2.5028],\n",
       "         [0.0000, 0.7247, 0.5940, 1.8349],\n",
       "         [0.0000, 0.1393, 0.5772, 2.3448]]))"
      ]
     },
     "execution_count": 8,
     "metadata": {},
     "output_type": "execute_result"
    }
   ],
   "execution_count": 8
  },
  {
   "metadata": {
    "ExecuteTime": {
     "end_time": "2025-07-17T01:24:10.522929Z",
     "start_time": "2025-07-17T01:24:10.507930Z"
    }
   },
   "cell_type": "code",
   "source": [
    "# 任务3：练习张量的索引、切片、拼接 (torch.cat) 和堆叠 (torch.stack)\n",
    "task3_tensor = torch.arange(0, 12).reshape(3, 4)\n",
    "task3_tensor1 = torch.ones(3, 4)\n",
    "task3_tensor2 = torch.zeros(1, 4)\n",
    "sp = torch.tensor([])\n",
    "task3_tensor[0], task3_tensor[-1], task3_tensor[:, 0], task3_tensor[:, -1], task3_tensor[..., -1]"
   ],
   "id": "a9864128e1991a17",
   "outputs": [
    {
     "data": {
      "text/plain": [
       "(tensor([0, 1, 2, 3]),\n",
       " tensor([ 8,  9, 10, 11]),\n",
       " tensor([0, 4, 8]),\n",
       " tensor([ 3,  7, 11]),\n",
       " tensor([ 3,  7, 11]))"
      ]
     },
     "execution_count": 9,
     "metadata": {},
     "output_type": "execute_result"
    }
   ],
   "execution_count": 9
  },
  {
   "metadata": {
    "ExecuteTime": {
     "end_time": "2025-07-17T01:24:10.538928Z",
     "start_time": "2025-07-17T01:24:10.524930Z"
    }
   },
   "cell_type": "code",
   "source": "task3_tensor[0, -1]",
   "id": "7cc82ae4eba0c76",
   "outputs": [
    {
     "data": {
      "text/plain": [
       "tensor(3)"
      ]
     },
     "execution_count": 10,
     "metadata": {},
     "output_type": "execute_result"
    }
   ],
   "execution_count": 10
  },
  {
   "metadata": {
    "ExecuteTime": {
     "end_time": "2025-07-17T01:24:10.554930Z",
     "start_time": "2025-07-17T01:24:10.540929Z"
    }
   },
   "cell_type": "code",
   "source": [
    "task3_tensor[:, 0] = 0    # 替换操作\n",
    "task3_tensor"
   ],
   "id": "2ddfc170826b3163",
   "outputs": [
    {
     "data": {
      "text/plain": [
       "tensor([[ 0,  1,  2,  3],\n",
       "        [ 0,  5,  6,  7],\n",
       "        [ 0,  9, 10, 11]])"
      ]
     },
     "execution_count": 11,
     "metadata": {},
     "output_type": "execute_result"
    }
   ],
   "execution_count": 11
  },
  {
   "metadata": {
    "ExecuteTime": {
     "end_time": "2025-07-17T01:24:10.570930Z",
     "start_time": "2025-07-17T01:24:10.555931Z"
    }
   },
   "cell_type": "code",
   "source": "torch.cat((task3_tensor, task3_tensor), dim=0), torch.cat((task3_tensor, task3_tensor), dim=1)",
   "id": "8d7d8fb8568b256e",
   "outputs": [
    {
     "data": {
      "text/plain": [
       "(tensor([[ 0,  1,  2,  3],\n",
       "         [ 0,  5,  6,  7],\n",
       "         [ 0,  9, 10, 11],\n",
       "         [ 0,  1,  2,  3],\n",
       "         [ 0,  5,  6,  7],\n",
       "         [ 0,  9, 10, 11]]),\n",
       " tensor([[ 0,  1,  2,  3,  0,  1,  2,  3],\n",
       "         [ 0,  5,  6,  7,  0,  5,  6,  7],\n",
       "         [ 0,  9, 10, 11,  0,  9, 10, 11]]))"
      ]
     },
     "execution_count": 12,
     "metadata": {},
     "output_type": "execute_result"
    }
   ],
   "execution_count": 12
  },
  {
   "metadata": {
    "ExecuteTime": {
     "end_time": "2025-07-17T01:24:10.586671Z",
     "start_time": "2025-07-17T01:24:10.571929Z"
    }
   },
   "cell_type": "code",
   "source": "torch.cat([task3_tensor, task3_tensor], dim=0), torch.cat((task3_tensor, task3_tensor), dim=0)",
   "id": "3894d53534779753",
   "outputs": [
    {
     "data": {
      "text/plain": [
       "(tensor([[ 0,  1,  2,  3],\n",
       "         [ 0,  5,  6,  7],\n",
       "         [ 0,  9, 10, 11],\n",
       "         [ 0,  1,  2,  3],\n",
       "         [ 0,  5,  6,  7],\n",
       "         [ 0,  9, 10, 11]]),\n",
       " tensor([[ 0,  1,  2,  3],\n",
       "         [ 0,  5,  6,  7],\n",
       "         [ 0,  9, 10, 11],\n",
       "         [ 0,  1,  2,  3],\n",
       "         [ 0,  5,  6,  7],\n",
       "         [ 0,  9, 10, 11]]))"
      ]
     },
     "execution_count": 13,
     "metadata": {},
     "output_type": "execute_result"
    }
   ],
   "execution_count": 13
  },
  {
   "metadata": {
    "ExecuteTime": {
     "end_time": "2025-07-17T01:24:10.601924Z",
     "start_time": "2025-07-17T01:24:10.589676Z"
    }
   },
   "cell_type": "code",
   "source": "torch.cat((task3_tensor, task3_tensor2), dim=0)",
   "id": "67a840a4b6f8fb46",
   "outputs": [
    {
     "data": {
      "text/plain": [
       "tensor([[ 0.,  1.,  2.,  3.],\n",
       "        [ 0.,  5.,  6.,  7.],\n",
       "        [ 0.,  9., 10., 11.],\n",
       "        [ 0.,  0.,  0.,  0.]])"
      ]
     },
     "execution_count": 14,
     "metadata": {},
     "output_type": "execute_result"
    }
   ],
   "execution_count": 14
  },
  {
   "metadata": {
    "ExecuteTime": {
     "end_time": "2025-07-17T01:24:10.617582Z",
     "start_time": "2025-07-17T01:24:10.603012Z"
    }
   },
   "cell_type": "code",
   "source": "torch.cat((task3_tensor, sp), dim=0).shape",
   "id": "cf017129e717313c",
   "outputs": [
    {
     "data": {
      "text/plain": [
       "torch.Size([3, 4])"
      ]
     },
     "execution_count": 15,
     "metadata": {},
     "output_type": "execute_result"
    }
   ],
   "execution_count": 15
  },
  {
   "metadata": {
    "ExecuteTime": {
     "end_time": "2025-07-17T01:24:10.632969Z",
     "start_time": "2025-07-17T01:24:10.618583Z"
    }
   },
   "cell_type": "code",
   "source": [
    "'''\n",
    "stack操作：dim=0\t新增维度插入最前面\t(2, 3, 4)\t把整个矩阵作为单元进行堆叠，其中2为堆叠的张量的数量\n",
    "          dim=1，新增维度插入第2个位置（3，2，4）    把每一行作为单元进行堆叠\n",
    "          dim=2，新增维度插入第3个位置（3，4，2）    把每一个元素作为单元进行堆叠\n",
    "'''\n",
    "torch.stack((task3_tensor, task3_tensor), dim=0), torch.stack((task3_tensor, task3_tensor), dim=1), torch.stack((task3_tensor, task3_tensor), dim=2)        # stack操作中所有的向量形状必须一样"
   ],
   "id": "832cd2bd6413310e",
   "outputs": [
    {
     "data": {
      "text/plain": [
       "(tensor([[[ 0,  1,  2,  3],\n",
       "          [ 0,  5,  6,  7],\n",
       "          [ 0,  9, 10, 11]],\n",
       " \n",
       "         [[ 0,  1,  2,  3],\n",
       "          [ 0,  5,  6,  7],\n",
       "          [ 0,  9, 10, 11]]]),\n",
       " tensor([[[ 0,  1,  2,  3],\n",
       "          [ 0,  1,  2,  3]],\n",
       " \n",
       "         [[ 0,  5,  6,  7],\n",
       "          [ 0,  5,  6,  7]],\n",
       " \n",
       "         [[ 0,  9, 10, 11],\n",
       "          [ 0,  9, 10, 11]]]),\n",
       " tensor([[[ 0,  0],\n",
       "          [ 1,  1],\n",
       "          [ 2,  2],\n",
       "          [ 3,  3]],\n",
       " \n",
       "         [[ 0,  0],\n",
       "          [ 5,  5],\n",
       "          [ 6,  6],\n",
       "          [ 7,  7]],\n",
       " \n",
       "         [[ 0,  0],\n",
       "          [ 9,  9],\n",
       "          [10, 10],\n",
       "          [11, 11]]]))"
      ]
     },
     "execution_count": 16,
     "metadata": {},
     "output_type": "execute_result"
    }
   ],
   "execution_count": 16
  },
  {
   "metadata": {
    "ExecuteTime": {
     "end_time": "2025-07-17T01:34:28.046468Z",
     "start_time": "2025-07-17T01:34:28.032388Z"
    }
   },
   "cell_type": "code",
   "source": [
    "#任务4：练习张量的形状变换：view(), reshape(), squeeze(), unsqueeze()\n",
    "x = torch.tensor([1, 2, 3])\n",
    "print(x.shape)"
   ],
   "id": "e2b34d3540b18c0d",
   "outputs": [
    {
     "name": "stdout",
     "output_type": "stream",
     "text": [
      "torch.Size([3])\n"
     ]
    }
   ],
   "execution_count": 18
  },
  {
   "metadata": {
    "ExecuteTime": {
     "end_time": "2025-07-17T01:36:45.828447Z",
     "start_time": "2025-07-17T01:36:45.822810Z"
    }
   },
   "cell_type": "code",
   "source": [
    "'''\n",
    "unsqueeze 的作用是在指定位置插入一个大小为 1 的新维度。\n",
    "\n",
    "语法: tensor.unsqueeze(dim) 或 torch.unsqueeze(tensor, dim)\n",
    "\n",
    "dim: 你希望插入新维度的位置。\n",
    "'''\n",
    "y = x.unsqueeze(dim=1)\n",
    "z = x.unsqueeze(dim=0)\n",
    "print(y.shape, z.shape)"
   ],
   "id": "b7617b86a3b3ba92",
   "outputs": [
    {
     "name": "stdout",
     "output_type": "stream",
     "text": [
      "torch.Size([3, 1]) torch.Size([1, 3])\n"
     ]
    }
   ],
   "execution_count": 21
  },
  {
   "metadata": {
    "ExecuteTime": {
     "end_time": "2025-07-17T01:44:47.521244Z",
     "start_time": "2025-07-17T01:44:47.504085Z"
    }
   },
   "cell_type": "code",
   "source": [
    "'''\n",
    "squeeze 的作用是移除张量中所有或指定的大小为 1 的维度。\n",
    "\n",
    "语法: tensor.squeeze(dim=None)\n",
    "\n",
    "dim (可选):\n",
    "\n",
    "如果不提供 dim，它会移除所有大小为 1 的维度。\n",
    "\n",
    "如果提供了 dim，它只会在指定位置移除维度，前提是该维度的大小必须为 1。如果不是1，则什么也不做。\n",
    "'''\n",
    "h = torch.arange(12).reshape(1, 1, 12)\n",
    "print(h, h.shape)"
   ],
   "id": "7d1b5f10d5e21ab0",
   "outputs": [
    {
     "name": "stdout",
     "output_type": "stream",
     "text": [
      "tensor([[[ 0,  1,  2,  3,  4,  5,  6,  7,  8,  9, 10, 11]]]) torch.Size([1, 1, 12])\n"
     ]
    }
   ],
   "execution_count": 29
  },
  {
   "metadata": {
    "ExecuteTime": {
     "end_time": "2025-07-17T01:44:31.863466Z",
     "start_time": "2025-07-17T01:44:31.846143Z"
    }
   },
   "cell_type": "code",
   "source": [
    "an1 = h.squeeze()\n",
    "an2 = torch.squeeze(h, dim=1)\n",
    "an3 = h.squeeze(dim=-1)\n",
    "print(an1, an2.shape, an3.shape)"
   ],
   "id": "1796f7e5a267e664",
   "outputs": [
    {
     "name": "stdout",
     "output_type": "stream",
     "text": [
      "tensor([ 0,  1,  2,  3,  4,  5,  6,  7,  8,  9, 10, 11]) torch.Size([1, 12]) torch.Size([1, 1, 12])\n"
     ]
    }
   ],
   "execution_count": 28
  },
  {
   "metadata": {
    "ExecuteTime": {
     "end_time": "2025-07-17T01:59:04.270217Z",
     "start_time": "2025-07-17T01:59:04.263216Z"
    }
   },
   "cell_type": "code",
   "source": [
    "'''\n",
    "torch.reshape(x,(a,b,c))或x.reshape((a,b,c)),将x转换成形状为a乘b乘c的张量。\n",
    "torch.reshape(x,(-1,c)),将x转换成m乘c形状的张量，这里的-1为一个占位符，意思是确定了x的第二个维度为c，第一个维度torch帮我算出来\n",
    "'''\n",
    "origin_tensor = torch.arange(1,13).reshape(-1,6)\n",
    "print(origin_tensor.shape)"
   ],
   "id": "a56229d8480127ac",
   "outputs": [
    {
     "name": "stdout",
     "output_type": "stream",
     "text": [
      "torch.Size([2, 6])\n"
     ]
    }
   ],
   "execution_count": 30
  },
  {
   "metadata": {
    "ExecuteTime": {
     "end_time": "2025-07-17T01:59:49.135525Z",
     "start_time": "2025-07-17T01:59:49.127525Z"
    }
   },
   "cell_type": "code",
   "source": [
    "y = torch.reshape(origin_tensor,(3,4))\n",
    "print(y)"
   ],
   "id": "d09be64626afa4b2",
   "outputs": [
    {
     "name": "stdout",
     "output_type": "stream",
     "text": [
      "tensor([[ 1,  2,  3,  4],\n",
      "        [ 5,  6,  7,  8],\n",
      "        [ 9, 10, 11, 12]])\n"
     ]
    }
   ],
   "execution_count": 32
  },
  {
   "metadata": {
    "ExecuteTime": {
     "end_time": "2025-07-17T02:27:35.340687Z",
     "start_time": "2025-07-17T02:27:35.330293Z"
    }
   },
   "cell_type": "code",
   "source": [
    "grad = torch.tensor([[1.0,2,3],[4,5,6],[7,8,9]], requires_grad=True)\n",
    "grad_b = torch.arange(4.0,requires_grad=True)\n",
    "print(grad_b.shape, grad.shape, grad_b.grad)"
   ],
   "id": "6374779198db8a45",
   "outputs": [
    {
     "name": "stdout",
     "output_type": "stream",
     "text": [
      "torch.Size([4]) torch.Size([3, 3]) None\n"
     ]
    }
   ],
   "execution_count": 65
  },
  {
   "metadata": {
    "ExecuteTime": {
     "end_time": "2025-07-17T02:21:20.372335Z",
     "start_time": "2025-07-17T02:21:20.358673Z"
    }
   },
   "cell_type": "code",
   "source": [
    "y = torch.dot(grad_b, grad_b) + 5\n",
    "y\n"
   ],
   "id": "ad0d1891adf66e3a",
   "outputs": [
    {
     "data": {
      "text/plain": [
       "tensor(19., grad_fn=<AddBackward0>)"
      ]
     },
     "execution_count": 56,
     "metadata": {},
     "output_type": "execute_result"
    }
   ],
   "execution_count": 56
  },
  {
   "metadata": {
    "ExecuteTime": {
     "end_time": "2025-07-17T02:21:22.372558Z",
     "start_time": "2025-07-17T02:21:22.359795Z"
    }
   },
   "cell_type": "code",
   "source": [
    "y.backward()\n",
    "print(grad_b.grad)"
   ],
   "id": "102b6920bcff5ad4",
   "outputs": [
    {
     "name": "stdout",
     "output_type": "stream",
     "text": [
      "tensor([0., 2., 4., 6.])\n"
     ]
    }
   ],
   "execution_count": 57
  },
  {
   "metadata": {
    "ExecuteTime": {
     "end_time": "2025-07-17T02:22:08.553117Z",
     "start_time": "2025-07-17T02:22:08.538806Z"
    }
   },
   "cell_type": "code",
   "source": "grad_b.grad == 2 * grad_b",
   "id": "eefe127c36e82e19",
   "outputs": [
    {
     "data": {
      "text/plain": [
       "tensor([True, True, True, True])"
      ]
     },
     "execution_count": 58,
     "metadata": {},
     "output_type": "execute_result"
    }
   ],
   "execution_count": 58
  },
  {
   "metadata": {
    "ExecuteTime": {
     "end_time": "2025-07-17T02:27:38.442169Z",
     "start_time": "2025-07-17T02:27:38.426399Z"
    }
   },
   "cell_type": "code",
   "source": [
    "y1 = grad * grad\n",
    "y1.sum().backward()\n",
    "print(grad.grad)"
   ],
   "id": "e5bfd27ba5c03682",
   "outputs": [
    {
     "name": "stdout",
     "output_type": "stream",
     "text": [
      "tensor([[ 2.,  4.,  6.],\n",
      "        [ 8., 10., 12.],\n",
      "        [14., 16., 18.]])\n"
     ]
    }
   ],
   "execution_count": 66
  },
  {
   "metadata": {},
   "cell_type": "code",
   "outputs": [],
   "execution_count": null,
   "source": "",
   "id": "6782e22dbc8aa6a8"
  }
 ],
 "metadata": {
  "kernelspec": {
   "display_name": "Python 3",
   "language": "python",
   "name": "python3"
  },
  "language_info": {
   "codemirror_mode": {
    "name": "ipython",
    "version": 2
   },
   "file_extension": ".py",
   "mimetype": "text/x-python",
   "name": "python",
   "nbconvert_exporter": "python",
   "pygments_lexer": "ipython2",
   "version": "2.7.6"
  }
 },
 "nbformat": 4,
 "nbformat_minor": 5
}
